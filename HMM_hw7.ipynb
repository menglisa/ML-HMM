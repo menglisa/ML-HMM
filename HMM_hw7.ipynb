{
 "cells": [
  {
   "cell_type": "markdown",
   "metadata": {
    "colab_type": "text",
    "id": "F9EzEJO_ICal"
   },
   "source": [
    "**PART 1**"
   ]
  },
  {
   "cell_type": "code",
   "execution_count": 7,
   "metadata": {
    "colab": {
     "base_uri": "https://localhost:8080/",
     "height": 51
    },
    "colab_type": "code",
    "executionInfo": {
     "elapsed": 473,
     "status": "ok",
     "timestamp": 1588727991689,
     "user": {
      "displayName": "shagun gupta",
      "photoUrl": "https://lh3.googleusercontent.com/a-/AOh14Gi00i7-GRr42uUUPObpB_JPCTxu9SSDZYJeG5g5=s64",
      "userId": "18231311259389961451"
     },
     "user_tz": 420
    },
    "id": "PbnZmpmmyPY_",
    "outputId": "62951d92-7959-49c6-8b16-7c80ee0ba774"
   },
   "outputs": [
    {
     "name": "stdout",
     "output_type": "stream",
     "text": [
      "Drive already mounted at /content/drive; to attempt to forcibly remount, call drive.mount(\"/content/drive\", force_remount=True).\n",
      "11\n"
     ]
    }
   ],
   "source": [
    "from google.colab import drive\n",
    "import pandas as pd\n",
    "import numpy as np\n",
    "import matplotlib.pyplot as plt\n",
    "import math\n",
    "drive.mount('/content/drive')\n",
    "default_path = '/content/drive/My Drive/INF ML 552/HW7 - HMM/'\n",
    "\n",
    "grid = []\n",
    "towers = []\n",
    "noisy_distances = []\n",
    "\n",
    "file = open(default_path+\"hmm-data.txt\")\n",
    "file.readline()\n",
    "file.readline()\n",
    "for i in range(10):\n",
    "  grid.append([])\n",
    "  grid[i].extend([int(x) for x in file.readline().split()])\n",
    "\n",
    "[file.readline() for _ in range(4)]\n",
    "\n",
    "for i in range(4):\n",
    "  towers.append([])\n",
    "  towers[i].extend([int(x) for x in file.readline().split(' ')[2:]])\n",
    "\n",
    "[file.readline() for _ in range(4)]\n",
    "\n",
    "for i in range(11):\n",
    "  noisy_distances.append([])\n",
    "  noisy_distances[i].extend([float(x) for x in file.readline().split()])\n",
    "\n",
    "print(len(noisy_distances))"
   ]
  },
  {
   "cell_type": "code",
   "execution_count": 0,
   "metadata": {
    "colab": {},
    "colab_type": "code",
    "id": "LIund_cn0VVV"
   },
   "outputs": [],
   "source": [
    "def get_valid_states(grid):\n",
    "\n",
    "  valid_states = np.ones(len(grid)*len(grid[0]), dtype=bool)\n",
    "  states = {}\n",
    "\n",
    "  for i, row in enumerate(grid):\n",
    "    for j, col in enumerate(grid[i]):\n",
    "      states[i*10+j] = (i,j)\n",
    "      if col == 0:\n",
    "          valid_states[i*10+j] = False\n",
    "\n",
    "  # print(states)\n",
    "  return states, valid_states\n",
    "\n",
    "# get_valid_states(grid)"
   ]
  },
  {
   "cell_type": "code",
   "execution_count": 0,
   "metadata": {
    "colab": {},
    "colab_type": "code",
    "id": "iFdJXDW00dT7"
   },
   "outputs": [],
   "source": [
    "def get_intitial_prob(grid):\n",
    "  s = 0\n",
    "  for row in grid:\n",
    "    s += sum(row)\n",
    "  \n",
    "  initial_prob = np.ones(len(grid)*len(grid[0])) * (1/s)\n",
    "  for i, row in enumerate(grid):\n",
    "    for j, col in enumerate(grid[i]):\n",
    "      # print(i,j,row,col)\n",
    "      if col == 0:\n",
    "        initial_prob[i*10+j] = 0\n",
    "      \n",
    "  return initial_prob\n",
    "\n",
    "# get_intitial_prob(grid)"
   ]
  },
  {
   "cell_type": "code",
   "execution_count": 0,
   "metadata": {
    "colab": {},
    "colab_type": "code",
    "id": "zKHjDHYG_erl"
   },
   "outputs": [],
   "source": [
    "def get_prob(grid, states, valid_states):\n",
    "  prob = []\n",
    "  for i, st in states.items():\n",
    "    if valid_states[i]:\n",
    "      neighbors = 0\n",
    "      x, y = st\n",
    "      if 0<=x-1<=9 and grid[x-1][y] == 1:\n",
    "        neighbors += 1\n",
    "      if 0<=x+1<=9 and grid[x+1][y] == 1:\n",
    "        neighbors +=1\n",
    "      if 0<=y-1<=9 and grid[x][y-1] == 1:\n",
    "        neighbors +=1\n",
    "      if 0<=y+1<=9 and grid[x][y+1] == 1:\n",
    "        neighbors +=1\n",
    "      prob.append(1/neighbors)\n",
    "    else:\n",
    "      prob.append(0)\n",
    "  # print(prob)\n",
    "  return prob"
   ]
  },
  {
   "cell_type": "code",
   "execution_count": 0,
   "metadata": {
    "colab": {},
    "colab_type": "code",
    "id": "KB5l1IQ_4cv5"
   },
   "outputs": [],
   "source": [
    "def get_cpt(grid, states, valid_states):\n",
    "\n",
    "  tran_matrix = []\n",
    "  prob = get_prob(grid,states,valid_states)\n",
    "  # print(grid)\n",
    "  # print(states)\n",
    "  # print(valid_states)\n",
    "  for i, st in states.items():\n",
    "    if valid_states[i]:\n",
    "      from_x, from_y = st\n",
    "      a = [list(np.zeros(len(k))) for k in grid]\n",
    "      for j, st1 in states.items():\n",
    "        to_x, to_y = st1\n",
    "        if ((from_y == to_y and (from_x == to_x - 1 or from_x == to_x + 1)) or  (from_x == to_x and (from_y == to_y - 1 or from_y == to_y + 1))) and valid_states[j]:\n",
    "          a[to_x][to_y] = prob[i]\n",
    "\n",
    "      a = [item for sublist in a for item in sublist]\n",
    "      tran_matrix.append(a)\n",
    "    else:\n",
    "      tran_matrix.append(list(np.zeros(len(valid_states))))\n",
    "  # pd.DataFrame(tran_matrix).to_csv(default_path + \"data.csv\")\n",
    "  # return np.transpose(np.array(tran_matrix)).tolist()\n",
    "  return tran_matrix   \n",
    "\n"
   ]
  },
  {
   "cell_type": "code",
   "execution_count": 0,
   "metadata": {
    "colab": {},
    "colab_type": "code",
    "id": "1xhzJs2dN6-y"
   },
   "outputs": [],
   "source": [
    "import math \n",
    "\n",
    "def get_distance(states, valid_states, grid, towers):\n",
    "\n",
    "  possible_observations = []\n",
    "  euclidean_dist_matrix = []\n",
    "\n",
    "  # print(round(math.sqrt(2 * ((len(grid)-1)**2)),1))\n",
    "  for i in range(0, int(round(max_noise * math.sqrt(2 * ((len(grid)-1)**2)),1)/0.1)+1):\n",
    "    possible_observations.append(round(i*0.1,1))\n",
    "\n",
    "  for t, tower in enumerate(towers):\n",
    "    euclidean_dist_matrix.append([])\n",
    "    tx = tower[0]\n",
    "    ty = tower[1]\n",
    "    st_obs = []\n",
    "    for st in states:\n",
    "      # print(st)\n",
    "      st_obs.append([])\n",
    "      if valid_states[st]:\n",
    "        x, y = states[st]\n",
    "        min_dist = round(min_noise * math.sqrt((x-tx)**2 + (y-ty)**2) , 1)\n",
    "        max_dist = round(max_noise * math.sqrt((x-tx)**2 + (y-ty)**2) , 1)\n",
    "        # print(\"dist \",min_dist, max_dist)\n",
    "        p = 1/(((max_dist - min_dist + 0.1) / 0.1)) if (tx,ty) != (x,y) else 0.0\n",
    "        # print(\"prob \", p)\n",
    "        # st_obs.extend([0.0 for x in range(0, int(min_dist/0.1)+1)])\n",
    "        # st_obs.extend([p for x in range(0, int((max_dist - min_dist) / 0.1)+1)])\n",
    "        # st_obs.extend([0.0 for x in range(0, len(possible_observations)- len(st_obs))])\n",
    "        for i in possible_observations:\n",
    "          if (min_dist <= i <= max_dist):\n",
    "              st_obs[st].extend([p])\n",
    "          else:\n",
    "              st_obs[st].extend([0])\n",
    "\n",
    "      else:\n",
    "        for i in possible_observations:\n",
    "          st_obs[st].extend([0])\n",
    "    euclidean_dist_matrix[t].extend(st_obs)\n",
    "  \n",
    "  # print(np.array(euclidean_dist_matrix).shape)\n",
    "  return possible_observations, euclidean_dist_matrix\n",
    "\n",
    "# get_distance(states, valid_states, grid, towers)"
   ]
  },
  {
   "cell_type": "code",
   "execution_count": 0,
   "metadata": {
    "colab": {},
    "colab_type": "code",
    "id": "ec7-Zs8wZdHQ"
   },
   "outputs": [],
   "source": [
    "def get_evidence_matrix(evidence, states, valid_states, possible_obs, ed_matrix): #observation_seq, states, observations, emission_prob\n",
    "\n",
    "  prob = np.ones((1, len(states))) #state_prob\n",
    "  p = []\n",
    "  _emission_m = []\n",
    "\n",
    "  # print(np.array(ed_matrix).shape)\n",
    "  \n",
    "  for i, given_tower_noise in enumerate(evidence):\n",
    "      # print(\"noise\", given_tower_noise)\n",
    "      p.append([])\n",
    "      for j, state in enumerate(states):\n",
    "        if valid_states[j]:\n",
    "          for k, obs in enumerate(possible_obs): \n",
    "              if(given_tower_noise == obs):\n",
    "                  # print(i,j,k,given_tower_noise, obs)\n",
    "                  p[i].extend([ed_matrix[i][j][k]])\n",
    "                  break\n",
    "        else:\n",
    "          p[i].extend([0.0])\n",
    "  \n",
    "  for i in p:\n",
    "    # print(i)\n",
    "    prob *= i \n",
    "  \n",
    "  # pd.concat([pd.DataFrame(p), pd.DataFrame(prob)]).to_csv(default_path+'data.csv')\n",
    "  return prob\n",
    "\n"
   ]
  },
  {
   "cell_type": "code",
   "execution_count": 0,
   "metadata": {
    "colab": {},
    "colab_type": "code",
    "id": "bfHrPTjdXH1G"
   },
   "outputs": [],
   "source": [
    "def HMM(t1, states, valid_states, tran_matrix, possible_observations, euclidean_dist_matrix, noisy_distances): #observation_seq\n",
    "\n",
    "  evidence_prob = [] #_em_prob\n",
    "  prev_states = [] #_previous_states\n",
    "  seq = [] #_states_seq\n",
    "  back_seq = []\n",
    "  max_prob = []\n",
    "\n",
    "  for step in range(len(noisy_distances)):\n",
    "    # print(\"step\", step)\n",
    "    evidence_prob = get_evidence_matrix(noisy_distances[step], states, valid_states, possible_observations, euclidean_dist_matrix)\n",
    "    # print(evidence_prob)\n",
    "    # return\n",
    "    if step == 0:\n",
    "      max_prob = t1 * evidence_prob         \n",
    "    else:\n",
    "        # max_prob, prev_states = max_prob_state(max_prob * tran_matrix) \n",
    "        states_prob = max_prob * tran_matrix\n",
    "        p = 0\n",
    "        prev_state_max = 0\n",
    "        max_prob = []\n",
    "        prev_states = []\n",
    "        \n",
    "        for curr_state in range(len(states)):\n",
    "          max_prob_val = 0\n",
    "          pr_st = 0\n",
    "          if valid_states[curr_state]:\n",
    "            for pr_st in range(len(states)):\n",
    "              if valid_states[pr_st]:\n",
    "                p = states_prob[curr_state][pr_st]\n",
    "                if (p > max_prob_val):\n",
    "                  max_prob_val = p\n",
    "                  prev_state_max = pr_st\n",
    "            max_prob.extend([max_prob_val]) \n",
    "            # print(curr_state, \":\", prev_state_max ,\":\", max_prob_val) \n",
    "            prev_states.extend([prev_state_max])\n",
    "          else:\n",
    "            max_prob.extend([0])\n",
    "            prev_states.extend([None]) \n",
    "\n",
    "        max_prob = max_prob * evidence_prob\n",
    "        back_seq.append(prev_states)\n",
    "\n",
    "  # print(np.array(max_prob).shape, max_prob[0],max_prob[0].tolist().index(max(max_prob[0].tolist())))  \n",
    "  seq.extend([max_prob[0].tolist().index(max(max_prob[0].tolist()))])\n",
    "  back_seq.reverse()\n",
    "  for state in back_seq:\n",
    "      seq.extend([state[seq[-1]]])\n",
    "  seq.reverse()    \n",
    "  return seq\n"
   ]
  },
  {
   "cell_type": "code",
   "execution_count": 0,
   "metadata": {
    "colab": {},
    "colab_type": "code",
    "id": "3kxrGhhp2M5r"
   },
   "outputs": [],
   "source": [
    "min_noise = 0.7\n",
    "max_noise = 1.3\n",
    "t1 = get_intitial_prob(grid)\n",
    "states, valid_states = get_valid_states(grid)\n",
    "tran_matrix = get_cpt(grid, states, valid_states)\n",
    "possible_observations, euclidean_dist_matrix = get_distance(states, valid_states, grid, towers)\n",
    "seq = HMM(t1, states, valid_states, tran_matrix, possible_observations, euclidean_dist_matrix, noisy_distances)\n",
    "for t, i in enumerate(seq):\n",
    "  print(\"Time \", t+1, \": \" ,states[i])"
   ]
  },
  {
   "cell_type": "markdown",
   "metadata": {
    "colab_type": "text",
    "id": "aqOjvl85BNIr"
   },
   "source": [
    "PART 2"
   ]
  },
  {
   "cell_type": "code",
   "execution_count": 34,
   "metadata": {
    "colab": {
     "base_uri": "https://localhost:8080/",
     "height": 207
    },
    "colab_type": "code",
    "executionInfo": {
     "elapsed": 5213,
     "status": "ok",
     "timestamp": 1588730086761,
     "user": {
      "displayName": "shagun gupta",
      "photoUrl": "https://lh3.googleusercontent.com/a-/AOh14Gi00i7-GRr42uUUPObpB_JPCTxu9SSDZYJeG5g5=s64",
      "userId": "18231311259389961451"
     },
     "user_tz": 420
    },
    "id": "SwA3FjL3sRU0",
    "outputId": "ea21bb5d-f3c3-4efb-f62e-54fa110d3cd1"
   },
   "outputs": [
    {
     "name": "stdout",
     "output_type": "stream",
     "text": [
      "Collecting hidden_markov\n",
      "  Downloading https://files.pythonhosted.org/packages/37/f3/e2caf0c874c7666243fd9ad1cd66cd34fdd539ffc5630c5ee8d6c1841aae/hidden_markov-0.3.2.tar.gz\n",
      "Requirement already satisfied: numpy in /usr/local/lib/python3.6/dist-packages (from hidden_markov) (1.18.3)\n",
      "Building wheels for collected packages: hidden-markov\n",
      "  Building wheel for hidden-markov (setup.py) ... \u001b[?25l\u001b[?25hdone\n",
      "  Created wheel for hidden-markov: filename=hidden_markov-0.3.2-cp36-none-any.whl size=6906 sha256=4a0fa2de1ae12231136b1206683a87e8507182dcff2a31bd738b221200a781e4\n",
      "  Stored in directory: /root/.cache/pip/wheels/a1/e1/d8/7d0e168c63377453769325485b214bf6ca2ce5e5cf0f67a5ae\n",
      "Successfully built hidden-markov\n",
      "Installing collected packages: hidden-markov\n",
      "Successfully installed hidden-markov-0.3.2\n"
     ]
    }
   ],
   "source": [
    "pip install hidden_markov"
   ]
  },
  {
   "cell_type": "code",
   "execution_count": 0,
   "metadata": {
    "colab": {},
    "colab_type": "code",
    "id": "5wvNqkfO80Ut"
   },
   "outputs": [],
   "source": [
    "import hidden_markov\n",
    "\n",
    "min_noise = 0.7\n",
    "max_noise = 1.3\n",
    "\n",
    "states = []\n",
    "for i in range(10):\n",
    "  for j in range(10):\n",
    "    if grid[i][j] == 1:\n",
    "      states.append((i,j))\n",
    "# states = set(states)\n",
    "\n",
    "possible_observations = []\n",
    "for i in range(0, int(round(max_noise * math.sqrt(2 * ((len(grid)-1)**2)),1)/0.1)+1):\n",
    "    possible_observations.append(round(i*0.1,1))\n",
    "\n",
    "# possible_observations = set(possible_observations)\n",
    "\n",
    "start_probability = [[1/len(states)] for i in range(len(states))]\n",
    "start_probability = np.matrix(start_probability)\n",
    "\n",
    "tran_matrix = []\n",
    "prob = []\n",
    "for i, st in enumerate(states):\n",
    "    neighbors = 0\n",
    "    x, y = st\n",
    "    if 0<=x-1<=9 and grid[x-1][y] == 1:\n",
    "      neighbors += 1\n",
    "    if 0<=x+1<=9 and grid[x+1][y] == 1:\n",
    "      neighbors +=1\n",
    "    if 0<=y-1<=9 and grid[x][y-1] == 1:\n",
    "      neighbors +=1\n",
    "    if 0<=y+1<=9 and grid[x][y+1] == 1:\n",
    "      neighbors +=1\n",
    "    prob.append(1/neighbors)\n",
    "# print(grid)\n",
    "# print(states)\n",
    "# print(valid_states)\n",
    "for i, st in enumerate(states):\n",
    "  # if valid_states[i]:\n",
    "  from_x, from_y = st\n",
    "  a = list(np.zeros(len(states)))\n",
    "  for j, st1 in enumerate(states):\n",
    "    to_x, to_y = st1\n",
    "    if ((from_y == to_y and (from_x == to_x - 1 or from_x == to_x + 1)) or  (from_x == to_x and (from_y == to_y - 1 or from_y == to_y + 1))):\n",
    "      a[j] = prob[i]\n",
    "  tran_matrix.append(a)\n",
    "\n",
    "transition_probability = np.matrix(tran_matrix)\n",
    "\n",
    "emission_probability = []\n",
    "\n",
    "for i, st in enumerate(states):\n",
    "\n",
    "  obs = []\n",
    "  x, y = st\n",
    "  for j , tower in enumerate(towers):\n",
    "    t = []\n",
    "    tx, ty = tower\n",
    "    # print(tx,ty,x,y)\n",
    "    min_dist = round(min_noise * math.sqrt((x-tx)**2 + (y-ty)**2) , 1)\n",
    "    max_dist = round(max_noise * math.sqrt((x-tx)**2 + (y-ty)**2) , 1)\n",
    "    p = 1/(((max_dist - min_dist + 0.1) / 0.1)) if (tx,ty) != (x,y) else 0.0\n",
    "    for k,val in enumerate(possible_observations):\n",
    "      if min_dist <= val <= max_dist:\n",
    "        t.append(p)\n",
    "      else:\n",
    "        t.append(0)\n",
    "    obs.append(t)\n",
    "\n",
    "    final = np.ones(len(possible_observations))\n",
    "    for i in obs:\n",
    "      final *= i\n",
    "  \n",
    "  emission_probability.append(final)\n",
    "\n",
    "emission_probability = np.matrix(emission_probability)\n",
    "print(emission_probability.shape)\n",
    "\n",
    "#emission_probbablity is 3D while library accepts only 2D matrix.\n",
    "test = hidden_markov.hmm(states,possible_observations,start_probability,transition_probability,emission_probability)\n",
    "print(test.viterbi(noisy_distances))"
   ]
  },
  {
   "cell_type": "code",
   "execution_count": 0,
   "metadata": {
    "colab": {},
    "colab_type": "code",
    "id": "b_atOjpwkWk4"
   },
   "outputs": [],
   "source": []
  }
 ],
 "metadata": {
  "colab": {
   "authorship_tag": "ABX9TyOlJSCZQUPjEjr1xcqVRHMd",
   "collapsed_sections": [],
   "name": "HMM_hw7.ipynb",
   "provenance": []
  },
  "kernelspec": {
   "display_name": "Python 3",
   "language": "python",
   "name": "python3"
  },
  "language_info": {
   "codemirror_mode": {
    "name": "ipython",
    "version": 3
   },
   "file_extension": ".py",
   "mimetype": "text/x-python",
   "name": "python",
   "nbconvert_exporter": "python",
   "pygments_lexer": "ipython3",
   "version": "3.7.3"
  }
 },
 "nbformat": 4,
 "nbformat_minor": 1
}
